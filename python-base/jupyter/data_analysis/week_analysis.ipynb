{
 "cells": [
  {
   "cell_type": "code",
   "execution_count": 2,
   "metadata": {},
   "outputs": [],
   "source": [
    "import pandas as pd\n",
    "# from Function import *\n"
   ]
  },
  {
   "cell_type": "code",
   "execution_count": 10,
   "metadata": {},
   "outputs": [
    {
     "name": "stdout",
     "output_type": "stream",
     "text": [
      "星期               1            2            3            4            5\n",
      "count  1002.000000  1026.000000  1032.000000  1023.000000  1015.000000\n",
      "mean     -0.000169    -0.000383     0.001118    -0.000107    -0.000790\n",
      "std       0.014187     0.014536     0.015204     0.014482     0.018730\n",
      "min      -0.089726    -0.075872    -0.085039    -0.086384    -0.084689\n",
      "25%      -0.006889    -0.007248    -0.006397    -0.006884    -0.010528\n",
      "50%      -0.001422    -0.000445     0.000693    -0.000459    -0.001956\n",
      "75%       0.005132     0.006289     0.007855     0.006208     0.007420\n",
      "max       0.096980     0.069536     0.075788     0.083712     0.092787\n",
      "胜率        0.419162     0.482456     0.532946     0.475073     0.437008\n"
     ]
    }
   ],
   "source": [
    "pd.set_option('expand_frame_repr',False)\n",
    "df=pd.read_csv('E:\\Desktop\\笔记\\Quantitative\\上证指数000001-3.csv',encoding='gbk',parse_dates=['日期1'])\n",
    "df['涨跌幅']=df['收盘价']/df['收盘价'].shift(1)-1\n",
    "df=df[df['日期1']>=pd.to_datetime('20000101')]\n",
    "#计算工日\n",
    "df['星期']=df['日期1'].dt.dayofweek\n",
    "df['星期']+=1\n",
    "#统计各个工作日的均值，涨跌幅等特征\n",
    "result=df.groupby('星期')['涨跌幅'].describe()\n",
    "tmp1=df.groupby('星期')['涨跌幅'].size()\n",
    "tmp2=df[df['涨跌幅']>0].groupby('星期')['涨跌幅'].size()\n",
    "result['胜率']=tmp2/tmp1\n",
    "print(result.T)\n"
   ]
  },
  {
   "cell_type": "code",
   "execution_count": 11,
   "metadata": {},
   "outputs": [
    {
     "name": "stdout",
     "output_type": "stream",
     "text": [
      "     count      mean       std       min       25%       50%       75%       max        胜率\n",
      "星期                                                                                        \n",
      "1   1002.0 -0.000169  0.014187 -0.089726 -0.006889 -0.001422  0.005132  0.096980  0.419162\n",
      "2   1026.0 -0.000383  0.014536 -0.075872 -0.007248 -0.000445  0.006289  0.069536  0.482456\n",
      "3   1032.0  0.001118  0.015204 -0.085039 -0.006397  0.000693  0.007855  0.075788  0.532946\n",
      "4   1023.0 -0.000107  0.014482 -0.086384 -0.006884 -0.000459  0.006208  0.083712  0.475073\n",
      "5   1015.0 -0.000790  0.018730 -0.084689 -0.010528 -0.001956  0.007420  0.092787  0.437008\n"
     ]
    }
   ],
   "source": [
    "print(result)"
   ]
  },
  {
   "cell_type": "code",
   "execution_count": null,
   "metadata": {},
   "outputs": [],
   "source": []
  }
 ],
 "metadata": {
  "kernelspec": {
   "display_name": "Python 3",
   "language": "python",
   "name": "python3"
  },
  "language_info": {
   "codemirror_mode": {
    "name": "ipython",
    "version": 3
   },
   "file_extension": ".py",
   "mimetype": "text/x-python",
   "name": "python",
   "nbconvert_exporter": "python",
   "pygments_lexer": "ipython3",
   "version": "3.6.10"
  }
 },
 "nbformat": 4,
 "nbformat_minor": 4
}
