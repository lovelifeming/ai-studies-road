{
 "cells": [
  {
   "cell_type": "code",
   "execution_count": 10,
   "metadata": {},
   "outputs": [],
   "source": [
    "import pandas as pd\n",
    "import matplotlib.pyplot as plt\n",
    "import mplfinance as mpf\n",
    "import numpy as np\n",
    "#分析上证指数 数据"
   ]
  },
  {
   "cell_type": "code",
   "execution_count": 30,
   "metadata": {},
   "outputs": [
    {
     "name": "stdout",
     "output_type": "stream",
     "text": [
      "<class 'pandas.core.frame.DataFrame'>\n",
      "RangeIndex: 2864 entries, 0 to 2863\n",
      "Data columns (total 12 columns):\n",
      "日期      2864 non-null datetime64[ns]\n",
      "股票代码    2864 non-null object\n",
      "名称      2864 non-null object\n",
      "收盘价     2864 non-null float64\n",
      "最高价     2864 non-null float64\n",
      "最低价     2864 non-null float64\n",
      "开盘价     2864 non-null float64\n",
      "前收盘     2864 non-null object\n",
      "涨跌额     2864 non-null object\n",
      "涨跌幅     2864 non-null object\n",
      "成交量     2864 non-null int64\n",
      "成交金额    2864 non-null float64\n",
      "dtypes: datetime64[ns](1), float64(5), int64(1), object(5)\n",
      "memory usage: 268.6+ KB\n"
     ]
    }
   ],
   "source": [
    "# df=pd.read_csv('D:/Program Files/收藏/笔记/量化投资/上证指数000001.csv',encoding='gbk',parse_dates=['candle_end_time'])\n",
    "df=pd.read_csv('E:/Personal/中证白酒指数399997.csv',encoding='gbk',parse_dates=['日期'])\n",
    "df.info()"
   ]
  },
  {
   "cell_type": "code",
   "execution_count": null,
   "metadata": {},
   "outputs": [],
   "source": [
    "df['ndate']=pd.to_datetime(df.date)\n",
    "df['month']=df.ndate.apply(lambda x:x.month)\n",
    "df.head()\n",
    "# 日期\t股票代码\t名称\t收盘价\t最高价\t最低价\t开盘价\t前收盘\t涨跌额\t涨跌幅\t换手率\t成交量\t成交金额\t总市值\t流通市值"
   ]
  },
  {
   "cell_type": "code",
   "execution_count": null,
   "metadata": {},
   "outputs": [],
   "source": [
    "# df_1=df[df.month ==6][df.ndate>'2019-01-01']\n",
    "df_1=df\n",
    "fig,axl=plt.subplots(figsize=(20,20))\n",
    "mpf.candlestick2_ohlc(axl,df_1.openingPrice.values,df_1.topPrice.values,df_1.bottomPrice.values,df_1.closingPrice.values,\n",
    "                      width=1,colorup='b',colordown='r')\n",
    "#显示均线\n",
    "df['ma5']=df.openingPrice.rolling(window=5).mean()\n",
    "df['ma30']=df.openingPrice.rolling(window=30).mean()\n",
    "l=[i for i in range(df_1.date.count())]\n"
   ]
  },
  {
   "cell_type": "code",
   "execution_count": null,
   "metadata": {},
   "outputs": [],
   "source": [
    "plt.plot(df.date.values,df.closingPrice.values,color='red',linewidth=2.0,linestyle='--')\n",
    "plt.plot(df.date.values,df.openingPrice.values,color='blue',linewidth=3.0,linestyle='-.')\n",
    "plt.show()"
   ]
  },
  {
   "cell_type": "code",
   "execution_count": 10,
   "metadata": {},
   "outputs": [
    {
     "data": {
      "text/plain": [
       "array([['2020/2/10', \"'000001\", '上证指数', ..., 2, nan, nan],\n",
       "       ['2020/2/7', \"'000001\", '上证指数', ..., 2, nan, nan],\n",
       "       ['2020/2/6', \"'000001\", '上证指数', ..., 2, nan, nan],\n",
       "       ...,\n",
       "       ['1990/12/21', \"'000001\", '上证指数', ..., 12, 118.6540000000062,\n",
       "        129.59333333333862],\n",
       "       ['1990/12/20', \"'000001\", '上证指数', ..., 12, 114.4600000000062,\n",
       "        128.75333333333865],\n",
       "       ['1990/12/19', \"'000001\", '上证指数', ..., 12, 108.6160000000062,\n",
       "        127.62400000000531]], dtype=object)"
      ]
     },
     "execution_count": 10,
     "metadata": {},
     "output_type": "execute_result"
    }
   ],
   "source": [
    "da=np.asarray(df)\n",
    "da"
   ]
  },
  {
   "cell_type": "code",
   "execution_count": 31,
   "metadata": {},
   "outputs": [
    {
     "name": "stdout",
     "output_type": "stream",
     "text": [
      "星期              1           2           3           4           5\n",
      "count  559.000000  578.000000  582.000000  576.000000  568.000000\n",
      "mean    -0.001913   -0.000131    0.000627   -0.001144   -0.000870\n",
      "std      0.018893    0.018982    0.019501    0.019890    0.024695\n",
      "min     -0.068989   -0.066143   -0.078916   -0.068841   -0.080367\n",
      "25%     -0.012628   -0.010876   -0.010444   -0.012559   -0.014502\n",
      "50%     -0.001761    0.000447    0.000988   -0.001441   -0.002552\n",
      "75%      0.008417    0.010457    0.011063    0.009916    0.012291\n",
      "max      0.083527    0.094096    0.106899    0.102037    0.105317\n",
      "胜率       0.447227    0.510381    0.529210    0.451389    0.453427\n"
     ]
    }
   ],
   "source": [
    "#统计沪深300每个工作日的涨跌幅\n",
    "pd.set_option('expand_frame_repr',False)\n",
    "df['涨跌幅']=df['收盘价']/df['收盘价'].shift(1)-1\n",
    "\n",
    "#计算工作日\n",
    "df['星期']=df['日期'].dt.dayofweek\n",
    "df['星期']+=1\n",
    "#统计各个工作日的均值，涨跌幅等特征\n",
    "result=df.groupby('星期')['涨跌幅'].describe()\n",
    "tmp1=df.groupby('星期')['涨跌幅'].size()\n",
    "tmp2=df[df['涨跌幅']>0].groupby('星期')['涨跌幅'].size()\n",
    "result['胜率']=tmp2/tmp1\n",
    "print(result.T)"
   ]
  },
  {
   "cell_type": "code",
   "execution_count": 32,
   "metadata": {},
   "outputs": [
    {
     "name": "stdout",
     "output_type": "stream",
     "text": [
      "星期              1           2           3           4           5\n",
      "count  217.000000  238.000000  242.000000  237.000000  232.000000\n",
      "mean     0.005127    0.004848    0.006889    0.006021    0.011035\n",
      "std      0.018992    0.019524    0.019100    0.020861    0.025411\n",
      "min     -0.049751   -0.060953   -0.050163   -0.052100   -0.061338\n",
      "25%     -0.005965   -0.005468   -0.002871   -0.004682   -0.003910\n",
      "50%      0.003578    0.005412    0.005886    0.004694    0.008738\n",
      "75%      0.014483    0.015488    0.015767    0.015543    0.023584\n",
      "max      0.083527    0.094096    0.106899    0.102037    0.105317\n",
      "胜率       0.617512    0.634454    0.673554    0.594937    0.676724\n"
     ]
    }
   ],
   "source": [
    "# 查看在牛熊不同状况下的周内效应\n",
    "# 牛市中，周一和周五表现较好，周二和周四表现较差\n",
    "# 熊市中，周二和周三表现较好，周一和周四表现较差\n",
    "#计算工作日\n",
    "df['星期']=df['日期'].dt.dayofweek\n",
    "df['星期']+=1\n",
    "# 插入均线计算以及判断上涨市和下跌市\n",
    "df.reset_index(drop=True,inplace=True)\n",
    "df.loc[(df['收盘价']>df['收盘价'].rolling(20,min_periods=1).mean()),'上涨市_mean']=True\n",
    "df['上涨市_mean'].fillna(value=False,inplace=True)\n",
    "# 选择上涨市还是下跌市\n",
    "df=df[df['上涨市_mean']==True]\n",
    "\n",
    "#统计各个工作日的均值，涨跌幅等特征\n",
    "result=df.groupby('星期')['涨跌幅'].describe()\n",
    "tmp1=df.groupby('星期')['涨跌幅'].size()\n",
    "tmp2=df[df['涨跌幅']>0].groupby('星期')['涨跌幅'].size()\n",
    "result['胜率']=tmp2/tmp1\n",
    "print(result.T)"
   ]
  },
  {
   "cell_type": "code",
   "execution_count": null,
   "metadata": {},
   "outputs": [],
   "source": []
  }
 ],
 "metadata": {
  "kernelspec": {
   "display_name": "Python 3",
   "language": "python",
   "name": "python3"
  },
  "language_info": {
   "codemirror_mode": {
    "name": "ipython",
    "version": 3
   },
   "file_extension": ".py",
   "mimetype": "text/x-python",
   "name": "python",
   "nbconvert_exporter": "python",
   "pygments_lexer": "ipython3",
   "version": "3.7.3"
  }
 },
 "nbformat": 4,
 "nbformat_minor": 4
}
